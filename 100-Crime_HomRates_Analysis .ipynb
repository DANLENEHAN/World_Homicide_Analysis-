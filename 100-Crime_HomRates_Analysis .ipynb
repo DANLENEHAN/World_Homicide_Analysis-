{
 "cells": [
  {
   "cell_type": "markdown",
   "metadata": {},
   "source": [
    "# Purpose \n",
    "To load in and analysise some world crime data from the UNDOC."
   ]
  },
  {
   "cell_type": "code",
   "execution_count": 1,
   "metadata": {
    "collapsed": true
   },
   "outputs": [],
   "source": [
    "import os.path\n",
    "import pandas as pd\n",
    "import numpy as np\n",
    "import matplotlib.pyplot as plt\n",
    "import math\n",
    "%matplotlib inline\n",
    "import datetime\n",
    "import matplotlib.ticker as ticker\n",
    "import matplotlib.dates as mdates"
   ]
  },
  {
   "cell_type": "markdown",
   "metadata": {},
   "source": [
    "# Setting out standard formatts for any Graphs below "
   ]
  },
  {
   "cell_type": "code",
   "execution_count": 2,
   "metadata": {
    "collapsed": true
   },
   "outputs": [],
   "source": [
    "plt.rc('font', size=12)          # controls default text sizes\n",
    "plt.rc('axes', titlesize=15)     # fontsize of the axes title\n",
    "plt.rc('axes', labelsize=15)    # fontsize of the x and y labels\n",
    "plt.rc('xtick', labelsize=15)    # fontsize of the tick labels\n",
    "plt.rc('ytick', labelsize=15)    # fontsize of the tick labels\n",
    "plt.rc('legend', fontsize=15)    # legend fontsize\n",
    "plt.rc('figure', titlesize=20, figsize=(15, 7.5))"
   ]
  },
  {
   "cell_type": "code",
   "execution_count": 3,
   "metadata": {
    "collapsed": true
   },
   "outputs": [],
   "source": [
    "# Ensure the file exists\n",
    "if not os.path.exists( r\"..\\..\\data\\raw\\UNODC\\homicide_report_total_and_sex.xlsx\" ):\n",
    "    print(\"Missing dataset file\")"
   ]
  },
  {
   "cell_type": "code",
   "execution_count": 4,
   "metadata": {
    "collapsed": true
   },
   "outputs": [],
   "source": [
    "# Getting the individual sheets fromm each xlsx\n",
    "xls1 = pd.ExcelFile( r\"..\\..\\data\\raw\\UNODC\\homicide_report_total_and_sex.xlsx\" )\n",
    "df = pd.read_excel(xls1, 'Total Count and Rate')"
   ]
  },
  {
   "cell_type": "code",
   "execution_count": 5,
   "metadata": {
    "collapsed": true
   },
   "outputs": [],
   "source": [
    "df.rename(columns={'UNODC Name':'UNODC_Name'}, inplace=True)"
   ]
  },
  {
   "cell_type": "code",
   "execution_count": 6,
   "metadata": {},
   "outputs": [
    {
     "data": {
      "text/html": [
       "<div>\n",
       "<style>\n",
       "    .dataframe thead tr:only-child th {\n",
       "        text-align: right;\n",
       "    }\n",
       "\n",
       "    .dataframe thead th {\n",
       "        text-align: left;\n",
       "    }\n",
       "\n",
       "    .dataframe tbody tr th {\n",
       "        vertical-align: top;\n",
       "    }\n",
       "</style>\n",
       "<table border=\"1\" class=\"dataframe\">\n",
       "  <thead>\n",
       "    <tr style=\"text-align: right;\">\n",
       "      <th></th>\n",
       "      <th>Region</th>\n",
       "      <th>Subregion</th>\n",
       "      <th>UNODC_Name</th>\n",
       "      <th>Source</th>\n",
       "      <th>2000</th>\n",
       "      <th>2001</th>\n",
       "      <th>2002</th>\n",
       "      <th>2003</th>\n",
       "      <th>2004</th>\n",
       "      <th>2005</th>\n",
       "      <th>...</th>\n",
       "      <th>2007.1</th>\n",
       "      <th>2008.1</th>\n",
       "      <th>2009.1</th>\n",
       "      <th>2010.1</th>\n",
       "      <th>2011.1</th>\n",
       "      <th>2012.1</th>\n",
       "      <th>2013.1</th>\n",
       "      <th>2014.1</th>\n",
       "      <th>2015.1</th>\n",
       "      <th>2016.1</th>\n",
       "    </tr>\n",
       "  </thead>\n",
       "  <tbody>\n",
       "    <tr>\n",
       "      <th>0</th>\n",
       "      <td>Africa</td>\n",
       "      <td>Eastern Africa</td>\n",
       "      <td>Burundi</td>\n",
       "      <td>CTS/SDG</td>\n",
       "      <td>NaN</td>\n",
       "      <td>NaN</td>\n",
       "      <td>NaN</td>\n",
       "      <td>NaN</td>\n",
       "      <td>NaN</td>\n",
       "      <td>NaN</td>\n",
       "      <td>...</td>\n",
       "      <td>NaN</td>\n",
       "      <td>4.152326</td>\n",
       "      <td>4.429245</td>\n",
       "      <td>3.958056</td>\n",
       "      <td>3.859122</td>\n",
       "      <td>5.364974</td>\n",
       "      <td>5.416562</td>\n",
       "      <td>5.701698</td>\n",
       "      <td>4.519931</td>\n",
       "      <td>6.020522</td>\n",
       "    </tr>\n",
       "    <tr>\n",
       "      <th>1</th>\n",
       "      <td>Africa</td>\n",
       "      <td>Eastern Africa</td>\n",
       "      <td>Comoros</td>\n",
       "      <td>WHO Estimate</td>\n",
       "      <td>56.203224</td>\n",
       "      <td>NaN</td>\n",
       "      <td>NaN</td>\n",
       "      <td>NaN</td>\n",
       "      <td>NaN</td>\n",
       "      <td>58.332588</td>\n",
       "      <td>...</td>\n",
       "      <td>NaN</td>\n",
       "      <td>NaN</td>\n",
       "      <td>NaN</td>\n",
       "      <td>8.529913</td>\n",
       "      <td>NaN</td>\n",
       "      <td>NaN</td>\n",
       "      <td>NaN</td>\n",
       "      <td>NaN</td>\n",
       "      <td>7.703230</td>\n",
       "      <td>NaN</td>\n",
       "    </tr>\n",
       "  </tbody>\n",
       "</table>\n",
       "<p>2 rows × 39 columns</p>\n",
       "</div>"
      ],
      "text/plain": [
       "   Region       Subregion UNODC_Name        Source       2000  2001  2002  \\\n",
       "0  Africa  Eastern Africa    Burundi       CTS/SDG        NaN   NaN   NaN   \n",
       "1  Africa  Eastern Africa    Comoros  WHO Estimate  56.203224   NaN   NaN   \n",
       "\n",
       "   2003  2004       2005    ...     2007.1    2008.1    2009.1    2010.1  \\\n",
       "0   NaN   NaN        NaN    ...        NaN  4.152326  4.429245  3.958056   \n",
       "1   NaN   NaN  58.332588    ...        NaN       NaN       NaN  8.529913   \n",
       "\n",
       "     2011.1    2012.1    2013.1    2014.1    2015.1    2016.1  \n",
       "0  3.859122  5.364974  5.416562  5.701698  4.519931  6.020522  \n",
       "1       NaN       NaN       NaN       NaN  7.703230       NaN  \n",
       "\n",
       "[2 rows x 39 columns]"
      ]
     },
     "execution_count": 6,
     "metadata": {},
     "output_type": "execute_result"
    }
   ],
   "source": [
    "df.head(2)"
   ]
  },
  {
   "cell_type": "code",
   "execution_count": 7,
   "metadata": {
    "collapsed": true
   },
   "outputs": [],
   "source": [
    "# Crime dataset containing the numbers of homicide by country \n",
    "df1 = df.iloc[:,0:21]"
   ]
  },
  {
   "cell_type": "code",
   "execution_count": 8,
   "metadata": {
    "collapsed": true
   },
   "outputs": [],
   "source": [
    "# Crime datset per 100,000 population\n",
    "df2 = df.iloc[:,22:40]"
   ]
  },
  {
   "cell_type": "code",
   "execution_count": 9,
   "metadata": {
    "collapsed": true
   },
   "outputs": [],
   "source": [
    "# Isolating the first 4 coolumns so they can be added to the per 100,000 pop dataset\n",
    "Region = df[df.columns[0]]\n",
    "Subregion = df[df.columns[1]]\n",
    "UNODC_Name = df[df.columns[2]]\n",
    "Source = df[df.columns[3]]"
   ]
  },
  {
   "cell_type": "code",
   "execution_count": 10,
   "metadata": {
    "collapsed": true
   },
   "outputs": [],
   "source": [
    "# Turning the 4 columns to series so they can be added to the per 100k dataset\n",
    "df2 = df2.assign(Region=Region.values)\n",
    "df2 = df2.assign(Subregion=Subregion.values)\n",
    "df2 = df2.assign(UNODC_Name=UNODC_Name.values)\n",
    "df2 = df2.assign(Source=Source.values)"
   ]
  },
  {
   "cell_type": "code",
   "execution_count": 11,
   "metadata": {
    "collapsed": true
   },
   "outputs": [],
   "source": [
    "perHcapdf = df2\n",
    "homdf = df1"
   ]
  },
  {
   "cell_type": "code",
   "execution_count": 12,
   "metadata": {
    "collapsed": true
   },
   "outputs": [],
   "source": [
    "# Removing irrelevant rows \n",
    "homdf = homdf[:-7]\n",
    "perHcapdf = perHcapdf[:-7]"
   ]
  },
  {
   "cell_type": "markdown",
   "metadata": {},
   "source": [
    "Changing the name and order of the homicide dataset per 100k people "
   ]
  },
  {
   "cell_type": "code",
   "execution_count": 13,
   "metadata": {
    "collapsed": true
   },
   "outputs": [],
   "source": [
    "perHcapdf.columns = [2000, 2001, 2002, 2003, 2004, 2005, 2006, 2007, 2008, 2009, 2010, 2011, 2012, 2013\n",
    "                   , 2014, 2015, 2016, 'Region', 'Subregion', 'UNODC_Name', 'Source']"
   ]
  },
  {
   "cell_type": "code",
   "execution_count": 14,
   "metadata": {
    "collapsed": true
   },
   "outputs": [],
   "source": [
    "perHcapdf = perHcapdf[['Region', 'Subregion', 'UNODC_Name', 'Source', 2000, 2001, 2002, 2003, 2004, 2005, 2006, 2007, 2008, 2009, 2010, 2011, 2012, 2013\n",
    "                   , 2014, 2015, 2016]]"
   ]
  },
  {
   "cell_type": "markdown",
   "metadata": {},
   "source": [
    "# Homicide Rates Overall 2000-2016"
   ]
  },
  {
   "cell_type": "code",
   "execution_count": 17,
   "metadata": {},
   "outputs": [
    {
     "data": {
      "text/plain": [
       "2000    8.233995\n",
       "2001    8.044094\n",
       "2002    8.634548\n",
       "2003    7.927020\n",
       "2004    8.031967\n",
       "2005    7.917391\n",
       "2006    7.779217\n",
       "2007    7.744555\n",
       "2008    7.981760\n",
       "2009    8.030265\n",
       "2010    8.062424\n",
       "2011    7.962590\n",
       "2012    7.941796\n",
       "2013    6.831329\n",
       "2014    7.264843\n",
       "2015    7.210479\n",
       "2016    8.202577\n",
       "dtype: float64"
      ]
     },
     "execution_count": 17,
     "metadata": {},
     "output_type": "execute_result"
    }
   ],
   "source": [
    "perHcapdf.mean()"
   ]
  },
  {
   "cell_type": "code",
   "execution_count": 20,
   "metadata": {},
   "outputs": [
    {
     "data": {
      "text/plain": [
       "<matplotlib.legend.Legend at 0x226b5adb550>"
      ]
     },
     "execution_count": 20,
     "metadata": {},
     "output_type": "execute_result"
    },
    {
     "data": {
      "image/png": "[encoded data removed]",
      "text/plain": [
       "<matplotlib.figure.Figure at 0x226b58889e8>"
      ]
     },
     "metadata": {},
     "output_type": "display_data"
    }
   ],
   "source": [
    "perHcapdf.mean().plot.line(color='Red')\n",
    "plt.legend(labels=('Homicide Rates',), loc=3)"
   ]
  },
  {
   "cell_type": "markdown",
   "metadata": {},
   "source": [
    "# Homicide Rates by Region 2000-2016 "
   ]
  },
  {
   "cell_type": "code",
   "execution_count": 21,
   "metadata": {
    "collapsed": true
   },
   "outputs": [],
   "source": [
    "# Grouping the avergae homicides of all the years by the regions \n",
    "homRegion = perHcapdf.groupby(['Region'])[list(perHcapdf.columns[4:21])].mean().reset_index()"
   ]
  },
  {
   "cell_type": "code",
   "execution_count": 22,
   "metadata": {},
   "outputs": [
    {
     "data": {
      "text/html": [
       "<div>\n",
       "<style>\n",
       "    .dataframe thead tr:only-child th {\n",
       "        text-align: right;\n",
       "    }\n",
       "\n",
       "    .dataframe thead th {\n",
       "        text-align: left;\n",
       "    }\n",
       "\n",
       "    .dataframe tbody tr th {\n",
       "        vertical-align: top;\n",
       "    }\n",
       "</style>\n",
       "<table border=\"1\" class=\"dataframe\">\n",
       "  <thead>\n",
       "    <tr style=\"text-align: right;\">\n",
       "      <th></th>\n",
       "      <th>Region</th>\n",
       "      <th>2000</th>\n",
       "      <th>2001</th>\n",
       "      <th>2002</th>\n",
       "      <th>2003</th>\n",
       "      <th>2004</th>\n",
       "      <th>2005</th>\n",
       "      <th>2006</th>\n",
       "      <th>2007</th>\n",
       "      <th>2008</th>\n",
       "      <th>2009</th>\n",
       "      <th>2010</th>\n",
       "      <th>2011</th>\n",
       "      <th>2012</th>\n",
       "      <th>2013</th>\n",
       "      <th>2014</th>\n",
       "      <th>2015</th>\n",
       "      <th>2016</th>\n",
       "    </tr>\n",
       "  </thead>\n",
       "  <tbody>\n",
       "    <tr>\n",
       "      <th>0</th>\n",
       "      <td>Africa</td>\n",
       "      <td>10.627707</td>\n",
       "      <td>11.841040</td>\n",
       "      <td>10.375233</td>\n",
       "      <td>7.400477</td>\n",
       "      <td>8.019065</td>\n",
       "      <td>8.213009</td>\n",
       "      <td>6.063692</td>\n",
       "      <td>7.639838</td>\n",
       "      <td>7.327988</td>\n",
       "      <td>7.615734</td>\n",
       "      <td>8.219516</td>\n",
       "      <td>7.494797</td>\n",
       "      <td>7.358396</td>\n",
       "      <td>9.711858</td>\n",
       "      <td>8.131428</td>\n",
       "      <td>8.346643</td>\n",
       "      <td>12.952421</td>\n",
       "    </tr>\n",
       "    <tr>\n",
       "      <th>1</th>\n",
       "      <td>Americas</td>\n",
       "      <td>16.309500</td>\n",
       "      <td>16.207266</td>\n",
       "      <td>18.350022</td>\n",
       "      <td>18.042211</td>\n",
       "      <td>18.861285</td>\n",
       "      <td>17.945605</td>\n",
       "      <td>18.620938</td>\n",
       "      <td>18.425593</td>\n",
       "      <td>19.610433</td>\n",
       "      <td>21.046427</td>\n",
       "      <td>22.460960</td>\n",
       "      <td>22.070398</td>\n",
       "      <td>22.061646</td>\n",
       "      <td>17.779742</td>\n",
       "      <td>18.663815</td>\n",
       "      <td>19.469482</td>\n",
       "      <td>20.868185</td>\n",
       "    </tr>\n",
       "    <tr>\n",
       "      <th>2</th>\n",
       "      <td>Asia</td>\n",
       "      <td>3.961144</td>\n",
       "      <td>3.426251</td>\n",
       "      <td>3.329916</td>\n",
       "      <td>3.467868</td>\n",
       "      <td>3.364346</td>\n",
       "      <td>3.463740</td>\n",
       "      <td>3.274342</td>\n",
       "      <td>2.917755</td>\n",
       "      <td>3.690666</td>\n",
       "      <td>3.288676</td>\n",
       "      <td>3.454404</td>\n",
       "      <td>3.081824</td>\n",
       "      <td>3.088528</td>\n",
       "      <td>2.950052</td>\n",
       "      <td>2.666413</td>\n",
       "      <td>2.642189</td>\n",
       "      <td>2.297839</td>\n",
       "    </tr>\n",
       "    <tr>\n",
       "      <th>3</th>\n",
       "      <td>Europe</td>\n",
       "      <td>3.564155</td>\n",
       "      <td>3.578493</td>\n",
       "      <td>3.627710</td>\n",
       "      <td>3.284720</td>\n",
       "      <td>3.047056</td>\n",
       "      <td>2.834099</td>\n",
       "      <td>2.544873</td>\n",
       "      <td>2.329225</td>\n",
       "      <td>2.396898</td>\n",
       "      <td>2.037250</td>\n",
       "      <td>1.851453</td>\n",
       "      <td>1.710574</td>\n",
       "      <td>1.742950</td>\n",
       "      <td>1.645496</td>\n",
       "      <td>1.836985</td>\n",
       "      <td>1.500713</td>\n",
       "      <td>1.456294</td>\n",
       "    </tr>\n",
       "    <tr>\n",
       "      <th>4</th>\n",
       "      <td>Oceania</td>\n",
       "      <td>3.041099</td>\n",
       "      <td>3.447213</td>\n",
       "      <td>3.772303</td>\n",
       "      <td>3.149487</td>\n",
       "      <td>3.028122</td>\n",
       "      <td>3.666872</td>\n",
       "      <td>4.142594</td>\n",
       "      <td>2.636717</td>\n",
       "      <td>3.001122</td>\n",
       "      <td>3.076665</td>\n",
       "      <td>4.088072</td>\n",
       "      <td>4.708504</td>\n",
       "      <td>3.781846</td>\n",
       "      <td>2.561192</td>\n",
       "      <td>2.422483</td>\n",
       "      <td>3.749397</td>\n",
       "      <td>3.169128</td>\n",
       "    </tr>\n",
       "  </tbody>\n",
       "</table>\n",
       "</div>"
      ],
      "text/plain": [
       "     Region       2000       2001       2002       2003       2004       2005  \\\n",
       "0    Africa  10.627707  11.841040  10.375233   7.400477   8.019065   8.213009   \n",
       "1  Americas  16.309500  16.207266  18.350022  18.042211  18.861285  17.945605   \n",
       "2      Asia   3.961144   3.426251   3.329916   3.467868   3.364346   3.463740   \n",
       "3    Europe   3.564155   3.578493   3.627710   3.284720   3.047056   2.834099   \n",
       "4   Oceania   3.041099   3.447213   3.772303   3.149487   3.028122   3.666872   \n",
       "\n",
       "        2006       2007       2008       2009       2010       2011  \\\n",
       "0   6.063692   7.639838   7.327988   7.615734   8.219516   7.494797   \n",
       "1  18.620938  18.425593  19.610433  21.046427  22.460960  22.070398   \n",
       "2   3.274342   2.917755   3.690666   3.288676   3.454404   3.081824   \n",
       "3   2.544873   2.329225   2.396898   2.037250   1.851453   1.710574   \n",
       "4   4.142594   2.636717   3.001122   3.076665   4.088072   4.708504   \n",
       "\n",
       "        2012       2013       2014       2015       2016  \n",
       "0   7.358396   9.711858   8.131428   8.346643  12.952421  \n",
       "1  22.061646  17.779742  18.663815  19.469482  20.868185  \n",
       "2   3.088528   2.950052   2.666413   2.642189   2.297839  \n",
       "3   1.742950   1.645496   1.836985   1.500713   1.456294  \n",
       "4   3.781846   2.561192   2.422483   3.749397   3.169128  "
      ]
     },
     "execution_count": 22,
     "metadata": {},
     "output_type": "execute_result"
    }
   ],
   "source": [
    "homRegion"
   ]
  },
  {
   "cell_type": "code",
   "execution_count": 23,
   "metadata": {},
   "outputs": [
    {
     "data": {
      "text/html": [
       "<div>\n",
       "<style>\n",
       "    .dataframe thead tr:only-child th {\n",
       "        text-align: right;\n",
       "    }\n",
       "\n",
       "    .dataframe thead th {\n",
       "        text-align: left;\n",
       "    }\n",
       "\n",
       "    .dataframe tbody tr th {\n",
       "        vertical-align: top;\n",
       "    }\n",
       "</style>\n",
       "<table border=\"1\" class=\"dataframe\">\n",
       "  <thead>\n",
       "    <tr style=\"text-align: right;\">\n",
       "      <th>Region</th>\n",
       "      <th>Africa</th>\n",
       "      <th>Americas</th>\n",
       "      <th>Asia</th>\n",
       "      <th>Europe</th>\n",
       "      <th>Oceania</th>\n",
       "    </tr>\n",
       "  </thead>\n",
       "  <tbody>\n",
       "    <tr>\n",
       "      <th>2000</th>\n",
       "      <td>10.627707</td>\n",
       "      <td>16.309500</td>\n",
       "      <td>3.961144</td>\n",
       "      <td>3.564155</td>\n",
       "      <td>3.041099</td>\n",
       "    </tr>\n",
       "    <tr>\n",
       "      <th>2001</th>\n",
       "      <td>11.841040</td>\n",
       "      <td>16.207266</td>\n",
       "      <td>3.426251</td>\n",
       "      <td>3.578493</td>\n",
       "      <td>3.447213</td>\n",
       "    </tr>\n",
       "    <tr>\n",
       "      <th>2002</th>\n",
       "      <td>10.375233</td>\n",
       "      <td>18.350022</td>\n",
       "      <td>3.329916</td>\n",
       "      <td>3.627710</td>\n",
       "      <td>3.772303</td>\n",
       "    </tr>\n",
       "    <tr>\n",
       "      <th>2003</th>\n",
       "      <td>7.400477</td>\n",
       "      <td>18.042211</td>\n",
       "      <td>3.467868</td>\n",
       "      <td>3.284720</td>\n",
       "      <td>3.149487</td>\n",
       "    </tr>\n",
       "    <tr>\n",
       "      <th>2004</th>\n",
       "      <td>8.019065</td>\n",
       "      <td>18.861285</td>\n",
       "      <td>3.364346</td>\n",
       "      <td>3.047056</td>\n",
       "      <td>3.028122</td>\n",
       "    </tr>\n",
       "    <tr>\n",
       "      <th>2005</th>\n",
       "      <td>8.213009</td>\n",
       "      <td>17.945605</td>\n",
       "      <td>3.463740</td>\n",
       "      <td>2.834099</td>\n",
       "      <td>3.666872</td>\n",
       "    </tr>\n",
       "    <tr>\n",
       "      <th>2006</th>\n",
       "      <td>6.063692</td>\n",
       "      <td>18.620938</td>\n",
       "      <td>3.274342</td>\n",
       "      <td>2.544873</td>\n",
       "      <td>4.142594</td>\n",
       "    </tr>\n",
       "    <tr>\n",
       "      <th>2007</th>\n",
       "      <td>7.639838</td>\n",
       "      <td>18.425593</td>\n",
       "      <td>2.917755</td>\n",
       "      <td>2.329225</td>\n",
       "      <td>2.636717</td>\n",
       "    </tr>\n",
       "    <tr>\n",
       "      <th>2008</th>\n",
       "      <td>7.327988</td>\n",
       "      <td>19.610433</td>\n",
       "      <td>3.690666</td>\n",
       "      <td>2.396898</td>\n",
       "      <td>3.001122</td>\n",
       "    </tr>\n",
       "    <tr>\n",
       "      <th>2009</th>\n",
       "      <td>7.615734</td>\n",
       "      <td>21.046427</td>\n",
       "      <td>3.288676</td>\n",
       "      <td>2.037250</td>\n",
       "      <td>3.076665</td>\n",
       "    </tr>\n",
       "    <tr>\n",
       "      <th>2010</th>\n",
       "      <td>8.219516</td>\n",
       "      <td>22.460960</td>\n",
       "      <td>3.454404</td>\n",
       "      <td>1.851453</td>\n",
       "      <td>4.088072</td>\n",
       "    </tr>\n",
       "    <tr>\n",
       "      <th>2011</th>\n",
       "      <td>7.494797</td>\n",
       "      <td>22.070398</td>\n",
       "      <td>3.081824</td>\n",
       "      <td>1.710574</td>\n",
       "      <td>4.708504</td>\n",
       "    </tr>\n",
       "    <tr>\n",
       "      <th>2012</th>\n",
       "      <td>7.358396</td>\n",
       "      <td>22.061646</td>\n",
       "      <td>3.088528</td>\n",
       "      <td>1.742950</td>\n",
       "      <td>3.781846</td>\n",
       "    </tr>\n",
       "    <tr>\n",
       "      <th>2013</th>\n",
       "      <td>9.711858</td>\n",
       "      <td>17.779742</td>\n",
       "      <td>2.950052</td>\n",
       "      <td>1.645496</td>\n",
       "      <td>2.561192</td>\n",
       "    </tr>\n",
       "    <tr>\n",
       "      <th>2014</th>\n",
       "      <td>8.131428</td>\n",
       "      <td>18.663815</td>\n",
       "      <td>2.666413</td>\n",
       "      <td>1.836985</td>\n",
       "      <td>2.422483</td>\n",
       "    </tr>\n",
       "    <tr>\n",
       "      <th>2015</th>\n",
       "      <td>8.346643</td>\n",
       "      <td>19.469482</td>\n",
       "      <td>2.642189</td>\n",
       "      <td>1.500713</td>\n",
       "      <td>3.749397</td>\n",
       "    </tr>\n",
       "    <tr>\n",
       "      <th>2016</th>\n",
       "      <td>12.952421</td>\n",
       "      <td>20.868185</td>\n",
       "      <td>2.297839</td>\n",
       "      <td>1.456294</td>\n",
       "      <td>3.169128</td>\n",
       "    </tr>\n",
       "  </tbody>\n",
       "</table>\n",
       "</div>"
      ],
      "text/plain": [
       "Region     Africa   Americas      Asia    Europe   Oceania\n",
       "2000    10.627707  16.309500  3.961144  3.564155  3.041099\n",
       "2001    11.841040  16.207266  3.426251  3.578493  3.447213\n",
       "2002    10.375233  18.350022  3.329916  3.627710  3.772303\n",
       "2003     7.400477  18.042211  3.467868  3.284720  3.149487\n",
       "2004     8.019065  18.861285  3.364346  3.047056  3.028122\n",
       "2005     8.213009  17.945605  3.463740  2.834099  3.666872\n",
       "2006     6.063692  18.620938  3.274342  2.544873  4.142594\n",
       "2007     7.639838  18.425593  2.917755  2.329225  2.636717\n",
       "2008     7.327988  19.610433  3.690666  2.396898  3.001122\n",
       "2009     7.615734  21.046427  3.288676  2.037250  3.076665\n",
       "2010     8.219516  22.460960  3.454404  1.851453  4.088072\n",
       "2011     7.494797  22.070398  3.081824  1.710574  4.708504\n",
       "2012     7.358396  22.061646  3.088528  1.742950  3.781846\n",
       "2013     9.711858  17.779742  2.950052  1.645496  2.561192\n",
       "2014     8.131428  18.663815  2.666413  1.836985  2.422483\n",
       "2015     8.346643  19.469482  2.642189  1.500713  3.749397\n",
       "2016    12.952421  20.868185  2.297839  1.456294  3.169128"
      ]
     },
     "execution_count": 23,
     "metadata": {},
     "output_type": "execute_result"
    }
   ],
   "source": [
    "# In order to plot a proper line graph we must first get the transpose of the df \n",
    "homRegionT = homRegion.set_index('Region').T\n",
    "homRegionT"
   ]
  },
  {
   "cell_type": "code",
   "execution_count": 32,
   "metadata": {},
   "outputs": [
    {
     "data": {
      "text/plain": [
       "<matplotlib.legend.Legend at 0x226b7fb68d0>"
      ]
     },
     "execution_count": 32,
     "metadata": {},
     "output_type": "execute_result"
    },
    {
     "data": {
      "image/png": "[encoded data removed]",
      "text/plain": [
       "<matplotlib.figure.Figure at 0x226b7fb6668>"
      ]
     },
     "metadata": {},
     "output_type": "display_data"
    }
   ],
   "source": [
    "homRegionT.plot.line()\n",
    "plt.legend(loc=10, title='Region Homicide Rates')"
   ]
  }
 ],
 "metadata": {
  "kernelspec": {
   "display_name": "Python 3",
   "language": "python",
   "name": "python3"
  },
  "language_info": {
   "codemirror_mode": {
    "name": "ipython",
    "version": 3
   },
   "file_extension": ".py",
   "mimetype": "text/x-python",
   "name": "python",
   "nbconvert_exporter": "python",
   "pygments_lexer": "ipython3",
   "version": "3.6.3"
  }
 },
 "nbformat": 4,
 "nbformat_minor": 2
}
